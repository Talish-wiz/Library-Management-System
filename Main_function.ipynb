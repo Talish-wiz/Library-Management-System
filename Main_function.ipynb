{
  "nbformat": 4,
  "nbformat_minor": 0,
  "metadata": {
    "colab": {
      "name": "Main_function.ipynb",
      "provenance": [],
      "authorship_tag": "ABX9TyPKOXFQlAYTPBDezx8bsycn",
      "include_colab_link": true
    },
    "kernelspec": {
      "name": "python3",
      "display_name": "Python 3"
    }
  },
  "cells": [
    {
      "cell_type": "markdown",
      "metadata": {
        "id": "view-in-github",
        "colab_type": "text"
      },
      "source": [
        "<a href=\"https://colab.research.google.com/github/Talish-wiz/Library-Management-System/blob/master/Main_function.ipynb\" target=\"_parent\"><img src=\"https://colab.research.google.com/assets/colab-badge.svg\" alt=\"Open In Colab\"/></a>"
      ]
    },
    {
      "cell_type": "markdown",
      "metadata": {
        "id": "aLdKjV9SPFAJ",
        "colab_type": "text"
      },
      "source": [
        "**NOTE**  1. Firstly Clone my Github repositry then go to my repository using cd command "
      ]
    },
    {
      "cell_type": "code",
      "metadata": {
        "id": "h_zKXtnBPkQs",
        "colab_type": "code",
        "colab": {
          "base_uri": "https://localhost:8080/",
          "height": 119
        },
        "outputId": "4ed0ff2e-4638-41a3-e1fb-3bff78d5f899"
      },
      "source": [
        "!git clone https://github.com/Talish-wiz/Library-Management-System.git"
      ],
      "execution_count": 2,
      "outputs": [
        {
          "output_type": "stream",
          "text": [
            "Cloning into 'Library-Management-System'...\n",
            "remote: Enumerating objects: 19, done.\u001b[K\n",
            "remote: Counting objects: 100% (19/19), done.\u001b[K\n",
            "remote: Compressing objects: 100% (17/17), done.\u001b[K\n",
            "remote: Total 19 (delta 3), reused 0 (delta 0), pack-reused 0\u001b[K\n",
            "Unpacking objects: 100% (19/19), done.\n"
          ],
          "name": "stdout"
        }
      ]
    },
    {
      "cell_type": "code",
      "metadata": {
        "id": "r7o6vTc6Pw4S",
        "colab_type": "code",
        "colab": {
          "base_uri": "https://localhost:8080/",
          "height": 34
        },
        "outputId": "2c01a4a1-313f-4fb8-938d-c3631138587b"
      },
      "source": [
        "cd Library-Management-System"
      ],
      "execution_count": 4,
      "outputs": [
        {
          "output_type": "stream",
          "text": [
            "/content/Library-Management-System\n"
          ],
          "name": "stdout"
        }
      ]
    },
    {
      "cell_type": "code",
      "metadata": {
        "id": "lcDV_fneObWN",
        "colab_type": "code",
        "outputId": "6a5460a5-b4f3-4cee-d2e2-3753073ecab7",
        "colab": {
          "base_uri": "https://localhost:8080/",
          "height": 782
        }
      },
      "source": [
        "import pickle\n",
        "import getpass\n",
        "from sys import exit\n",
        "from Books import *\n",
        "from Faculty import *\n",
        "from students import *\n",
        "from admin import *\n",
        "\n",
        "class main():\n",
        "    '''************WELCOME  TO  LIBRARY  MANAGEMENT  SYSTEM****************'''\n",
        "\n",
        "    def __init__(self):\n",
        "        self.pwd=\"talishwiz\"\n",
        "        \n",
        "    def login(self):\n",
        "        ch=9\n",
        "        while(ch!=0):\n",
        "            print(\"\\nLogin as:-\\n1. Student\\n2. Faculty\\n3. Admin\\n0. Exit\")\n",
        "            ch=int(input(\"Enter your choice :\"))\n",
        "            if (ch==1):\n",
        "                ch1=9\n",
        "                while(ch!=0):\n",
        "                    s=Students()\n",
        "                    print(\"\\n1.Display Profile\\n2.View Issued Book\\n3.Check fine\\n4.Display All Books\\n0.Exit\")\n",
        "                    ch1=int(input(\"Enter your choice:\"))\n",
        "                    if ch1==1 :\n",
        "                        s.profile()\n",
        "                    elif (ch1==2) :\n",
        "                        s.View_issued_book()\n",
        "                    elif (ch1==3) :\n",
        "                        s.check_fine()\n",
        "                    elif (ch1==4) :\n",
        "                        s.display_book()\n",
        "                    elif ch1==0:\n",
        "                        break\n",
        "                    else:\n",
        "                        print(\"Wrong Input!!!\")\n",
        "            \n",
        "            elif ch==2:\n",
        "                ch1=9\n",
        "                while(ch!=0):\n",
        "                    s=Faculty()\n",
        "                    print(\"\\n1.Display Profile\\n2.View Issued Book\\n3.Display All Books\\n0.Exit\")\n",
        "                    ch1=int(input(\"Enter your choice:\"))\n",
        "                    if (ch1==1) :\n",
        "                        s.profile()\n",
        "                    elif (ch1==2) :\n",
        "                        s.View_issued_book()\n",
        "                    elif (ch1==3) :\n",
        "                        s.display_book()\n",
        "                    elif ch1==0:\n",
        "                        break\n",
        "                    else:\n",
        "                        print(\"Wrong Input!!!\")\n",
        "            \n",
        "            elif ch==3:\n",
        "                ch1=100\n",
        "                print(\"\\nWelcome Admin!!\")\n",
        "                p=getpass.getpass(\"Enter your password or $ to exit:\")\n",
        "                if p=='$':\n",
        "                    break\n",
        "                if p==self.pwd:\n",
        "                    while(ch!=0):\n",
        "                        a=admin()\n",
        "                        print(\"\\n1.Add Book\\n2.Display Book\\n3.Remove Book\\n4.Add Student Record\\n5.Display Student Record\\n6.Remove Student record\\n7.Add Faculty Record\\n8.Display Faculty record\\n9.Remove faculty record\\n10.Issue\\n11.Show Issued Details\\n12.Check Fine\\n13.Return Book\\n14.Renew Book\\n0.Exit\")\n",
        "                        ch1=int(input(\"Enter your choice:\"))\n",
        "                        if (ch1==1):\n",
        "                            a.add_book()\n",
        "                        elif (ch1==2):\n",
        "                            a.display_book()\n",
        "                        elif (ch1==3):\n",
        "                            a.remove_book()\n",
        "                        elif (ch1==4):\n",
        "                            a.add_student()\n",
        "                        elif (ch1==5):\n",
        "                            a.display_student()\n",
        "                        elif (ch1==6):\n",
        "                            a.remove_student()\n",
        "                        elif (ch1==7):\n",
        "                            a.add_faculty()\n",
        "                        elif (ch1==8):\n",
        "                            a.display_faculty()\n",
        "                        elif (ch1==9):\n",
        "                            a.remove_faculty()\n",
        "                        elif (ch1==10):\n",
        "                            ch2=9\n",
        "                            while(ch2!=0):\n",
        "                                print(\"\\n1.Student\\n2.Faculty\\n0.Exit\")\n",
        "                                ch2=int(input(\"Enter your choice:\"))\n",
        "                                if (ch2==1):\n",
        "                                    a.issue_book_student()\n",
        "                                elif (ch2==2):\n",
        "                                    a.issue_book_faculty()\n",
        "                                elif(ch2==0):\n",
        "                                    break\n",
        "                                else:\n",
        "                                    print(\"Wrong input\")\n",
        "                        elif (ch1==11):\n",
        "                            ch2=9\n",
        "                            while(1):\n",
        "                                print(\"\\n1.Student\\n2.Faculty\\n0.Exit\")\n",
        "                                ch2=int(input(\"Enter your choice:\"))\n",
        "                                if (ch2==1):\n",
        "                                    a.display_issued_book_student()\n",
        "                                elif (ch2==2):\n",
        "                                    a.display_issued_book_faculty()\n",
        "                                elif (ch2==0):\n",
        "                                    break\n",
        "                                else:\n",
        "                                    print(\"Wrong input\")\n",
        "                        elif (ch1==12):\n",
        "                            a.check_fine()\n",
        "                        elif (ch1==13):\n",
        "                            ch2=9\n",
        "                            while(1):\n",
        "                                print(\"\\n1.Student\\n2.Faculty\\n0.Exit\")\n",
        "                                ch2=int(input(\"Enter your choice:\"))\n",
        "                                if (ch2==1):\n",
        "                                    a.return_book()\n",
        "                                elif (ch2==2):\n",
        "                                    a.return_book_faculty()\n",
        "                                elif (ch2==0):\n",
        "                                    break\n",
        "                                else:\n",
        "                                    print(\"Wrong input\")\n",
        "                        elif (ch1==14):\n",
        "                            ch2=9\n",
        "                            while(1):\n",
        "                                print(\"\\n1.Student\\n2.Faculty\\n0.Exit\")\n",
        "                                ch2=int(input(\"Enter your choice:\"))\n",
        "                                if (ch2==1):\n",
        "                                    a.renew_book()\n",
        "                                elif (ch2==2):\n",
        "                                    a.renew_book_faculty()\n",
        "                                elif (ch2==0):\n",
        "                                    break\n",
        "                                else:\n",
        "                                    print(\"Wrong input\")\n",
        "                        elif (ch1==0):\n",
        "                            break\n",
        "                        else:\n",
        "                            print(\"Wrong Input !!!\")\n",
        "                else:\n",
        "                    print(\"Wrong password!!!\")\n",
        "            elif ch==0:\n",
        "                print(\"**********Thank you for using*************\")\n",
        "                print(\"**********Created by Talish Hussain***********\")\n",
        "                break\n",
        "            else:\n",
        "                print(\"Wrong Input!!!!\")\n",
        "\n",
        "\n",
        "m=main()\n",
        "print(main.__doc__)\n",
        "m.login()"
      ],
      "execution_count": 5,
      "outputs": [
        {
          "output_type": "stream",
          "text": [
            "************WELCOME  TO  LIBRARY  MANAGEMENT  SYSTEM****************\n",
            "\n",
            "Login as:-\n",
            "1. Student\n",
            "2. Faculty\n",
            "3. Admin\n",
            "0. Exit\n",
            "Enter your choice :1\n",
            "\n",
            "1.Display Profile\n",
            "2.View Issued Book\n",
            "3.Check fine\n",
            "4.Display All Books\n",
            "0.Exit\n",
            "Enter your choice:1\n",
            "Enter your enrollment number to display your profile:0187cs171166\n",
            "YOUR PROFILE:-\n",
            "**************************************\n",
            "Name:Talish\tEnrollment no.:0187cs171166\tSemester:5\\\tBranch:cse\tPhone no.:1234\n",
            "\n",
            "1.Display Profile\n",
            "2.View Issued Book\n",
            "3.Check fine\n",
            "4.Display All Books\n",
            "0.Exit\n",
            "Enter your choice:2\n",
            "Enter your enrollment number:0187cs171166\n",
            "Book ISBN:789\tBook Title:Thermodynamics\tDue Date:2019-09-01\n",
            "No record found\n",
            "\n",
            "1.Display Profile\n",
            "2.View Issued Book\n",
            "3.Check fine\n",
            "4.Display All Books\n",
            "0.Exit\n",
            "Enter your choice:0\n",
            "\n",
            "Login as:-\n",
            "1. Student\n",
            "2. Faculty\n",
            "3. Admin\n",
            "0. Exit\n",
            "Enter your choice :0\n",
            "**********Thank you for using*************\n",
            "**********Created by Talish Hussain***********\n"
          ],
          "name": "stdout"
        }
      ]
    },
    {
      "cell_type": "code",
      "metadata": {
        "id": "tR2pyQ92Opjy",
        "colab_type": "code",
        "colab": {}
      },
      "source": [
        ""
      ],
      "execution_count": 0,
      "outputs": []
    }
  ]
}